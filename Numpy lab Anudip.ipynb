{
 "cells": [
  {
   "cell_type": "code",
   "execution_count": 1,
   "id": "066270c3",
   "metadata": {},
   "outputs": [],
   "source": [
    "#Numpy Lab Anudip\n",
    "\n",
    "\n",
    "import numpy as np"
   ]
  },
  {
   "cell_type": "code",
   "execution_count": 3,
   "id": "f7eda3ba",
   "metadata": {},
   "outputs": [
    {
     "name": "stdout",
     "output_type": "stream",
     "text": [
      "[[25 26 27 28 29 30 31 32 33 34]\n",
      " [35 36 37 38 39 40 41 42 43 44]]\n"
     ]
    }
   ],
   "source": [
    "#create array elements between 25 to 45(20 elements).Arrange them in equal size array\n",
    "\n",
    "arr1 = np.arange(25,45).reshape((2,10))\n",
    "print(arr1)"
   ]
  },
  {
   "cell_type": "code",
   "execution_count": 4,
   "id": "31e06be2",
   "metadata": {},
   "outputs": [
    {
     "name": "stdout",
     "output_type": "stream",
     "text": [
      "[15 13 80 65]\n"
     ]
    }
   ],
   "source": [
    "#find array element greater than 10\n",
    "\n",
    "array = np.array([15,13,4,5,7,80,65,10,2])\n",
    "extract_ele = np.extract(array > 10, array)\n",
    "print(extract_ele)"
   ]
  },
  {
   "cell_type": "code",
   "execution_count": 7,
   "id": "3ce66b76",
   "metadata": {},
   "outputs": [
    {
     "name": "stdout",
     "output_type": "stream",
     "text": [
      "Concatenated array: [ 1  3  5  7  9  2  4  6  8 10]\n"
     ]
    }
   ],
   "source": [
    "#concatenate two array apply all mathematical operator on the same\n",
    "\n",
    "array1 = np.array([1,3,5,7,9])\n",
    "array2 = np.array([2,4,6,8,10])\n",
    "concatenate_arr = np.concatenate((array1,array2))\n",
    "print(\"Concatenated array:\", concatenate_arr)"
   ]
  },
  {
   "cell_type": "code",
   "execution_count": 9,
   "id": "e38b9381",
   "metadata": {},
   "outputs": [
    {
     "name": "stdout",
     "output_type": "stream",
     "text": [
      "Odd numbers from arr1: [1 3 5 7 9]\n"
     ]
    }
   ],
   "source": [
    "# Extract all odd numbers from array\n",
    "\n",
    "arr = np.array([1,2,3,4,5,6,7,8,9,10])\n",
    "\n",
    "extract_odd = arr[arr % 2 != 0]\n",
    "print(\"Odd numbers from arr1:\",extract_odd)"
   ]
  },
  {
   "cell_type": "code",
   "execution_count": null,
   "id": "b7cb95c9",
   "metadata": {},
   "outputs": [],
   "source": []
  }
 ],
 "metadata": {
  "kernelspec": {
   "display_name": "Python 3 (ipykernel)",
   "language": "python",
   "name": "python3"
  },
  "language_info": {
   "codemirror_mode": {
    "name": "ipython",
    "version": 3
   },
   "file_extension": ".py",
   "mimetype": "text/x-python",
   "name": "python",
   "nbconvert_exporter": "python",
   "pygments_lexer": "ipython3",
   "version": "3.9.13"
  }
 },
 "nbformat": 4,
 "nbformat_minor": 5
}
